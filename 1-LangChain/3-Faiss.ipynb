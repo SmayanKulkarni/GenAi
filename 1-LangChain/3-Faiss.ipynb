{
 "cells": [
  {
   "cell_type": "markdown",
   "metadata": {
    "vscode": {
     "languageId": "plaintext"
    }
   },
   "source": [
    "# FAISS\n",
    "\n",
    "Facebook AI Similarity Search (FAISS) is a library for efficient similarity search and clustering of dense vectors. it contains algorithms that search in sets if vectors if aby suez up to ones that possibly do not fit in RAM. It also contains supporting code for evaluation and parameter tuning."
   ]
  },
  {
   "cell_type": "code",
   "execution_count": 1,
   "metadata": {},
   "outputs": [],
   "source": [
    "from langchain_community.document_loaders import TextLoader\n",
    "from langchain_community.vectorstores import FAISS\n",
    "from langchain_community.embeddings import OllamaEmbeddings\n",
    "from langchain_text_splitters import CharacterTextSplitter"
   ]
  },
  {
   "cell_type": "code",
   "execution_count": null,
   "metadata": {},
   "outputs": [],
   "source": [
    "loader  = TextLoader('speech.txt')\n",
    "documents = loader.load()\n",
    "text_splitter = CharacterTextSplitter(chunk_size = 1000, chunk_overlap = 30)\n",
    "docs = text_splitter.split_documents(documents)"
   ]
  },
  {
   "cell_type": "code",
   "execution_count": 4,
   "metadata": {},
   "outputs": [
    {
     "data": {
      "text/plain": [
       "[Document(metadata={'source': 'speech.txt'}, page_content='Here’s a general 500-word speech on **\"The Power of Positivity\":**\\n\\n---\\n\\n**The Power of Positivity**  \\n\\nGood morning, everyone.  \\n\\nToday, I want to talk about something that touches every aspect of our lives: the power of positivity. In a world filled with challenges, uncertainties, and setbacks, positivity is not just a state of mind—it is a transformative force that can shape our reality, enhance our well-being, and inspire others.  \\n\\nAt some point in life, we all face difficulties. Whether it’s a failed exam, a lost job opportunity, or even a strained relationship, life doesn’t always go as planned. But the way we respond to these challenges defines who we are. Positivity doesn’t mean ignoring problems or pretending everything is perfect. Instead, it’s about maintaining hope, finding solutions, and believing that better days are ahead.'),\n",
       " Document(metadata={'source': 'speech.txt'}, page_content='Science supports the power of positivity. Research has shown that a positive outlook can lead to better physical health, lower stress levels, and improved mental resilience. When we focus on the good, even amidst adversity, we train our brains to seek opportunities rather than obstacles. This doesn’t just help us—it has a ripple effect, influencing those around us. A simple smile, a kind word, or a small act of gratitude can brighten someone’s day and create a cycle of positivity.  \\n\\nConsider some of the most inspiring individuals throughout history—people like Mahatma Gandhi, Nelson Mandela, and Malala Yousafzai. What made them extraordinary was not just their courage but their ability to maintain hope and optimism even in the face of unimaginable challenges. Their positivity didn’t just fuel their own perseverance; it inspired movements, united communities, and changed the world.'),\n",
       " Document(metadata={'source': 'speech.txt'}, page_content='Now, let’s talk about how we can cultivate positivity in our daily lives. First, gratitude is a powerful tool. By acknowledging the things we’re thankful for—no matter how small—we shift our focus away from what’s lacking to what’s abundant. Try starting or ending each day by listing three things you’re grateful for. You’ll be amazed at how this simple habit can transform your perspective.  \\n\\nSecond, surround yourself with positive influences. The people we spend time with and the content we consume shape our thoughts and emotions. Seek out friends, mentors, or even books that uplift and inspire you. And don’t underestimate the power of self-talk. Be kind to yourself. Replace “I can’t do this” with “I’ll give it my best shot.”'),\n",
       " Document(metadata={'source': 'speech.txt'}, page_content='Finally, embrace challenges as opportunities for growth. Every setback teaches us something valuable. The next time you face a difficult situation, ask yourself, “What can I learn from this? How can I grow stronger?” You’ll find that even the toughest moments carry seeds of positivity.  \\n\\nAs I conclude, I want to remind you that positivity is not a destination—it’s a journey. It’s a daily choice to see the silver lining, to believe in your potential, and to spread light in the lives of others. Let’s commit to being beacons of positivity, not just for ourselves but for those around us.  \\n\\nTogether, we can create a brighter, more hopeful world. Thank you.  \\n\\n---  \\n\\nWould you like me to tailor this speech for a specific purpose or audience?')]"
      ]
     },
     "execution_count": 4,
     "metadata": {},
     "output_type": "execute_result"
    }
   ],
   "source": [
    "docs"
   ]
  },
  {
   "cell_type": "code",
   "execution_count": 5,
   "metadata": {},
   "outputs": [
    {
     "name": "stderr",
     "output_type": "stream",
     "text": [
      "/tmp/ipykernel_29487/1400055190.py:2: LangChainDeprecationWarning: The class `OllamaEmbeddings` was deprecated in LangChain 0.3.1 and will be removed in 1.0.0. An updated version of the class exists in the :class:`~langchain-ollama package and should be used instead. To use it run `pip install -U :class:`~langchain-ollama` and import as `from :class:`~langchain_ollama import OllamaEmbeddings``.\n",
      "  OllamaEmbeddings(model =\"llama3.2\")\n"
     ]
    },
    {
     "data": {
      "text/plain": [
       "<langchain_community.vectorstores.faiss.FAISS at 0x766167f9e690>"
      ]
     },
     "execution_count": 5,
     "metadata": {},
     "output_type": "execute_result"
    }
   ],
   "source": [
    "embeddings = (\n",
    "    OllamaEmbeddings(model =\"llama3.2\")\n",
    ")\n",
    "db = FAISS.from_documents(docs, embeddings)\n",
    "db"
   ]
  },
  {
   "cell_type": "code",
   "execution_count": 8,
   "metadata": {},
   "outputs": [
    {
     "data": {
      "text/plain": [
       "[Document(id='982e7f31-2ba2-49cb-a9bf-e7328846f990', metadata={'source': 'speech.txt'}, page_content='Finally, embrace challenges as opportunities for growth. Every setback teaches us something valuable. The next time you face a difficult situation, ask yourself, “What can I learn from this? How can I grow stronger?” You’ll find that even the toughest moments carry seeds of positivity.  \\n\\nAs I conclude, I want to remind you that positivity is not a destination—it’s a journey. It’s a daily choice to see the silver lining, to believe in your potential, and to spread light in the lives of others. Let’s commit to being beacons of positivity, not just for ourselves but for those around us.  \\n\\nTogether, we can create a brighter, more hopeful world. Thank you.  \\n\\n---  \\n\\nWould you like me to tailor this speech for a specific purpose or audience?'),\n",
       " Document(id='2fba8865-68a6-4cc3-a125-01f3f051d82e', metadata={'source': 'speech.txt'}, page_content='Science supports the power of positivity. Research has shown that a positive outlook can lead to better physical health, lower stress levels, and improved mental resilience. When we focus on the good, even amidst adversity, we train our brains to seek opportunities rather than obstacles. This doesn’t just help us—it has a ripple effect, influencing those around us. A simple smile, a kind word, or a small act of gratitude can brighten someone’s day and create a cycle of positivity.  \\n\\nConsider some of the most inspiring individuals throughout history—people like Mahatma Gandhi, Nelson Mandela, and Malala Yousafzai. What made them extraordinary was not just their courage but their ability to maintain hope and optimism even in the face of unimaginable challenges. Their positivity didn’t just fuel their own perseverance; it inspired movements, united communities, and changed the world.'),\n",
       " Document(id='f920fecd-eb6c-439c-82c7-2b4915fa5133', metadata={'source': 'speech.txt'}, page_content='Here’s a general 500-word speech on **\"The Power of Positivity\":**\\n\\n---\\n\\n**The Power of Positivity**  \\n\\nGood morning, everyone.  \\n\\nToday, I want to talk about something that touches every aspect of our lives: the power of positivity. In a world filled with challenges, uncertainties, and setbacks, positivity is not just a state of mind—it is a transformative force that can shape our reality, enhance our well-being, and inspire others.  \\n\\nAt some point in life, we all face difficulties. Whether it’s a failed exam, a lost job opportunity, or even a strained relationship, life doesn’t always go as planned. But the way we respond to these challenges defines who we are. Positivity doesn’t mean ignoring problems or pretending everything is perfect. Instead, it’s about maintaining hope, finding solutions, and believing that better days are ahead.'),\n",
       " Document(id='91faaa11-96f8-49f8-9b76-fc60181f62c3', metadata={'source': 'speech.txt'}, page_content='Now, let’s talk about how we can cultivate positivity in our daily lives. First, gratitude is a powerful tool. By acknowledging the things we’re thankful for—no matter how small—we shift our focus away from what’s lacking to what’s abundant. Try starting or ending each day by listing three things you’re grateful for. You’ll be amazed at how this simple habit can transform your perspective.  \\n\\nSecond, surround yourself with positive influences. The people we spend time with and the content we consume shape our thoughts and emotions. Seek out friends, mentors, or even books that uplift and inspire you. And don’t underestimate the power of self-talk. Be kind to yourself. Replace “I can’t do this” with “I’ll give it my best shot.”')]"
      ]
     },
     "execution_count": 8,
     "metadata": {},
     "output_type": "execute_result"
    }
   ],
   "source": [
    "query = \"What does the speaker want to specifically talk about?\"\n",
    "docs = db.similarity_search(query)\n",
    "docs"
   ]
  },
  {
   "cell_type": "markdown",
   "metadata": {},
   "source": [
    "**We can also convert the vector store into a Retriever class. This allows us to easily use it in other LangChain**\n",
    "**methods, which largely work with retrievers.**"
   ]
  },
  {
   "cell_type": "code",
   "execution_count": 10,
   "metadata": {},
   "outputs": [],
   "source": [
    "retriever = db.as_retriever()\n",
    "docs = retriever.invoke(query)"
   ]
  },
  {
   "cell_type": "code",
   "execution_count": 11,
   "metadata": {},
   "outputs": [
    {
     "data": {
      "text/plain": [
       "'Finally, embrace challenges as opportunities for growth. Every setback teaches us something valuable. The next time you face a difficult situation, ask yourself, “What can I learn from this? How can I grow stronger?” You’ll find that even the toughest moments carry seeds of positivity.  \\n\\nAs I conclude, I want to remind you that positivity is not a destination—it’s a journey. It’s a daily choice to see the silver lining, to believe in your potential, and to spread light in the lives of others. Let’s commit to being beacons of positivity, not just for ourselves but for those around us.  \\n\\nTogether, we can create a brighter, more hopeful world. Thank you.  \\n\\n---  \\n\\nWould you like me to tailor this speech for a specific purpose or audience?'"
      ]
     },
     "execution_count": 11,
     "metadata": {},
     "output_type": "execute_result"
    }
   ],
   "source": [
    "docs[0].page_content"
   ]
  },
  {
   "cell_type": "markdown",
   "metadata": {},
   "source": [
    "## Similarity Search with score\n",
    "Also returns the score of the query, which is measured in L2 distance, the lower the better."
   ]
  },
  {
   "cell_type": "code",
   "execution_count": 14,
   "metadata": {},
   "outputs": [
    {
     "data": {
      "text/plain": [
       "[(Document(id='982e7f31-2ba2-49cb-a9bf-e7328846f990', metadata={'source': 'speech.txt'}, page_content='Finally, embrace challenges as opportunities for growth. Every setback teaches us something valuable. The next time you face a difficult situation, ask yourself, “What can I learn from this? How can I grow stronger?” You’ll find that even the toughest moments carry seeds of positivity.  \\n\\nAs I conclude, I want to remind you that positivity is not a destination—it’s a journey. It’s a daily choice to see the silver lining, to believe in your potential, and to spread light in the lives of others. Let’s commit to being beacons of positivity, not just for ourselves but for those around us.  \\n\\nTogether, we can create a brighter, more hopeful world. Thank you.  \\n\\n---  \\n\\nWould you like me to tailor this speech for a specific purpose or audience?'),\n",
       "  6475.796),\n",
       " (Document(id='2fba8865-68a6-4cc3-a125-01f3f051d82e', metadata={'source': 'speech.txt'}, page_content='Science supports the power of positivity. Research has shown that a positive outlook can lead to better physical health, lower stress levels, and improved mental resilience. When we focus on the good, even amidst adversity, we train our brains to seek opportunities rather than obstacles. This doesn’t just help us—it has a ripple effect, influencing those around us. A simple smile, a kind word, or a small act of gratitude can brighten someone’s day and create a cycle of positivity.  \\n\\nConsider some of the most inspiring individuals throughout history—people like Mahatma Gandhi, Nelson Mandela, and Malala Yousafzai. What made them extraordinary was not just their courage but their ability to maintain hope and optimism even in the face of unimaginable challenges. Their positivity didn’t just fuel their own perseverance; it inspired movements, united communities, and changed the world.'),\n",
       "  6749.388),\n",
       " (Document(id='f920fecd-eb6c-439c-82c7-2b4915fa5133', metadata={'source': 'speech.txt'}, page_content='Here’s a general 500-word speech on **\"The Power of Positivity\":**\\n\\n---\\n\\n**The Power of Positivity**  \\n\\nGood morning, everyone.  \\n\\nToday, I want to talk about something that touches every aspect of our lives: the power of positivity. In a world filled with challenges, uncertainties, and setbacks, positivity is not just a state of mind—it is a transformative force that can shape our reality, enhance our well-being, and inspire others.  \\n\\nAt some point in life, we all face difficulties. Whether it’s a failed exam, a lost job opportunity, or even a strained relationship, life doesn’t always go as planned. But the way we respond to these challenges defines who we are. Positivity doesn’t mean ignoring problems or pretending everything is perfect. Instead, it’s about maintaining hope, finding solutions, and believing that better days are ahead.'),\n",
       "  7250.1562),\n",
       " (Document(id='91faaa11-96f8-49f8-9b76-fc60181f62c3', metadata={'source': 'speech.txt'}, page_content='Now, let’s talk about how we can cultivate positivity in our daily lives. First, gratitude is a powerful tool. By acknowledging the things we’re thankful for—no matter how small—we shift our focus away from what’s lacking to what’s abundant. Try starting or ending each day by listing three things you’re grateful for. You’ll be amazed at how this simple habit can transform your perspective.  \\n\\nSecond, surround yourself with positive influences. The people we spend time with and the content we consume shape our thoughts and emotions. Seek out friends, mentors, or even books that uplift and inspire you. And don’t underestimate the power of self-talk. Be kind to yourself. Replace “I can’t do this” with “I’ll give it my best shot.”'),\n",
       "  8220.037)]"
      ]
     },
     "execution_count": 14,
     "metadata": {},
     "output_type": "execute_result"
    }
   ],
   "source": [
    "docs_and_score = db.similarity_search_with_score(query)\n",
    "docs_and_score"
   ]
  },
  {
   "cell_type": "code",
   "execution_count": 17,
   "metadata": {},
   "outputs": [
    {
     "data": {
      "text/plain": [
       "[-1.197884202003479,\n",
       " -1.5925055742263794,\n",
       " -0.9150923490524292,\n",
       " -1.8963968753814697,\n",
       " 1.4479892253875732,\n",
       " -0.16453346610069275,\n",
       " 0.8026330471038818,\n",
       " 0.8327819108963013,\n",
       " -1.7419878244400024,\n",
       " -0.015722444280982018]"
      ]
     },
     "execution_count": 17,
     "metadata": {},
     "output_type": "execute_result"
    }
   ],
   "source": [
    "embedding_vector = embeddings.embed_query(query)\n",
    "embedding_vector[:10]"
   ]
  },
  {
   "cell_type": "code",
   "execution_count": 18,
   "metadata": {},
   "outputs": [],
   "source": [
    "docandscore = db.similarity_search_with_score_by_vector(embedding_vector)"
   ]
  },
  {
   "cell_type": "code",
   "execution_count": 19,
   "metadata": {},
   "outputs": [
    {
     "data": {
      "text/plain": [
       "[(Document(id='982e7f31-2ba2-49cb-a9bf-e7328846f990', metadata={'source': 'speech.txt'}, page_content='Finally, embrace challenges as opportunities for growth. Every setback teaches us something valuable. The next time you face a difficult situation, ask yourself, “What can I learn from this? How can I grow stronger?” You’ll find that even the toughest moments carry seeds of positivity.  \\n\\nAs I conclude, I want to remind you that positivity is not a destination—it’s a journey. It’s a daily choice to see the silver lining, to believe in your potential, and to spread light in the lives of others. Let’s commit to being beacons of positivity, not just for ourselves but for those around us.  \\n\\nTogether, we can create a brighter, more hopeful world. Thank you.  \\n\\n---  \\n\\nWould you like me to tailor this speech for a specific purpose or audience?'),\n",
       "  6475.796),\n",
       " (Document(id='2fba8865-68a6-4cc3-a125-01f3f051d82e', metadata={'source': 'speech.txt'}, page_content='Science supports the power of positivity. Research has shown that a positive outlook can lead to better physical health, lower stress levels, and improved mental resilience. When we focus on the good, even amidst adversity, we train our brains to seek opportunities rather than obstacles. This doesn’t just help us—it has a ripple effect, influencing those around us. A simple smile, a kind word, or a small act of gratitude can brighten someone’s day and create a cycle of positivity.  \\n\\nConsider some of the most inspiring individuals throughout history—people like Mahatma Gandhi, Nelson Mandela, and Malala Yousafzai. What made them extraordinary was not just their courage but their ability to maintain hope and optimism even in the face of unimaginable challenges. Their positivity didn’t just fuel their own perseverance; it inspired movements, united communities, and changed the world.'),\n",
       "  6749.388),\n",
       " (Document(id='f920fecd-eb6c-439c-82c7-2b4915fa5133', metadata={'source': 'speech.txt'}, page_content='Here’s a general 500-word speech on **\"The Power of Positivity\":**\\n\\n---\\n\\n**The Power of Positivity**  \\n\\nGood morning, everyone.  \\n\\nToday, I want to talk about something that touches every aspect of our lives: the power of positivity. In a world filled with challenges, uncertainties, and setbacks, positivity is not just a state of mind—it is a transformative force that can shape our reality, enhance our well-being, and inspire others.  \\n\\nAt some point in life, we all face difficulties. Whether it’s a failed exam, a lost job opportunity, or even a strained relationship, life doesn’t always go as planned. But the way we respond to these challenges defines who we are. Positivity doesn’t mean ignoring problems or pretending everything is perfect. Instead, it’s about maintaining hope, finding solutions, and believing that better days are ahead.'),\n",
       "  7250.1562),\n",
       " (Document(id='91faaa11-96f8-49f8-9b76-fc60181f62c3', metadata={'source': 'speech.txt'}, page_content='Now, let’s talk about how we can cultivate positivity in our daily lives. First, gratitude is a powerful tool. By acknowledging the things we’re thankful for—no matter how small—we shift our focus away from what’s lacking to what’s abundant. Try starting or ending each day by listing three things you’re grateful for. You’ll be amazed at how this simple habit can transform your perspective.  \\n\\nSecond, surround yourself with positive influences. The people we spend time with and the content we consume shape our thoughts and emotions. Seek out friends, mentors, or even books that uplift and inspire you. And don’t underestimate the power of self-talk. Be kind to yourself. Replace “I can’t do this” with “I’ll give it my best shot.”'),\n",
       "  8220.037)]"
      ]
     },
     "execution_count": 19,
     "metadata": {},
     "output_type": "execute_result"
    }
   ],
   "source": [
    "docandscore"
   ]
  },
  {
   "cell_type": "markdown",
   "metadata": {},
   "source": [
    "# Saving and Loading"
   ]
  },
  {
   "cell_type": "code",
   "execution_count": 20,
   "metadata": {},
   "outputs": [],
   "source": [
    "db.save_local(\"faiss_index\")"
   ]
  },
  {
   "cell_type": "code",
   "execution_count": 22,
   "metadata": {},
   "outputs": [],
   "source": [
    "new_db = FAISS.load_local(\"faiss_index\", embeddings, allow_dangerous_deserialization=True)"
   ]
  },
  {
   "cell_type": "code",
   "execution_count": 25,
   "metadata": {},
   "outputs": [],
   "source": [
    "docs = new_db.similarity_search(query)"
   ]
  },
  {
   "cell_type": "code",
   "execution_count": 26,
   "metadata": {},
   "outputs": [
    {
     "data": {
      "text/plain": [
       "[Document(id='982e7f31-2ba2-49cb-a9bf-e7328846f990', metadata={'source': 'speech.txt'}, page_content='Finally, embrace challenges as opportunities for growth. Every setback teaches us something valuable. The next time you face a difficult situation, ask yourself, “What can I learn from this? How can I grow stronger?” You’ll find that even the toughest moments carry seeds of positivity.  \\n\\nAs I conclude, I want to remind you that positivity is not a destination—it’s a journey. It’s a daily choice to see the silver lining, to believe in your potential, and to spread light in the lives of others. Let’s commit to being beacons of positivity, not just for ourselves but for those around us.  \\n\\nTogether, we can create a brighter, more hopeful world. Thank you.  \\n\\n---  \\n\\nWould you like me to tailor this speech for a specific purpose or audience?'),\n",
       " Document(id='2fba8865-68a6-4cc3-a125-01f3f051d82e', metadata={'source': 'speech.txt'}, page_content='Science supports the power of positivity. Research has shown that a positive outlook can lead to better physical health, lower stress levels, and improved mental resilience. When we focus on the good, even amidst adversity, we train our brains to seek opportunities rather than obstacles. This doesn’t just help us—it has a ripple effect, influencing those around us. A simple smile, a kind word, or a small act of gratitude can brighten someone’s day and create a cycle of positivity.  \\n\\nConsider some of the most inspiring individuals throughout history—people like Mahatma Gandhi, Nelson Mandela, and Malala Yousafzai. What made them extraordinary was not just their courage but their ability to maintain hope and optimism even in the face of unimaginable challenges. Their positivity didn’t just fuel their own perseverance; it inspired movements, united communities, and changed the world.'),\n",
       " Document(id='f920fecd-eb6c-439c-82c7-2b4915fa5133', metadata={'source': 'speech.txt'}, page_content='Here’s a general 500-word speech on **\"The Power of Positivity\":**\\n\\n---\\n\\n**The Power of Positivity**  \\n\\nGood morning, everyone.  \\n\\nToday, I want to talk about something that touches every aspect of our lives: the power of positivity. In a world filled with challenges, uncertainties, and setbacks, positivity is not just a state of mind—it is a transformative force that can shape our reality, enhance our well-being, and inspire others.  \\n\\nAt some point in life, we all face difficulties. Whether it’s a failed exam, a lost job opportunity, or even a strained relationship, life doesn’t always go as planned. But the way we respond to these challenges defines who we are. Positivity doesn’t mean ignoring problems or pretending everything is perfect. Instead, it’s about maintaining hope, finding solutions, and believing that better days are ahead.'),\n",
       " Document(id='91faaa11-96f8-49f8-9b76-fc60181f62c3', metadata={'source': 'speech.txt'}, page_content='Now, let’s talk about how we can cultivate positivity in our daily lives. First, gratitude is a powerful tool. By acknowledging the things we’re thankful for—no matter how small—we shift our focus away from what’s lacking to what’s abundant. Try starting or ending each day by listing three things you’re grateful for. You’ll be amazed at how this simple habit can transform your perspective.  \\n\\nSecond, surround yourself with positive influences. The people we spend time with and the content we consume shape our thoughts and emotions. Seek out friends, mentors, or even books that uplift and inspire you. And don’t underestimate the power of self-talk. Be kind to yourself. Replace “I can’t do this” with “I’ll give it my best shot.”')]"
      ]
     },
     "execution_count": 26,
     "metadata": {},
     "output_type": "execute_result"
    }
   ],
   "source": [
    "docs"
   ]
  }
 ],
 "metadata": {
  "kernelspec": {
   "display_name": "Python 3",
   "language": "python",
   "name": "python3"
  },
  "language_info": {
   "codemirror_mode": {
    "name": "ipython",
    "version": 3
   },
   "file_extension": ".py",
   "mimetype": "text/x-python",
   "name": "python",
   "nbconvert_exporter": "python",
   "pygments_lexer": "ipython3",
   "version": "3.11.11"
  }
 },
 "nbformat": 4,
 "nbformat_minor": 2
}
