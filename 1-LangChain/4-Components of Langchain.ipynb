{
 "cells": [
  {
   "cell_type": "code",
   "execution_count": 1,
   "metadata": {},
   "outputs": [
    {
     "data": {
      "text/plain": [
       "True"
      ]
     },
     "execution_count": 1,
     "metadata": {},
     "output_type": "execute_result"
    }
   ],
   "source": [
    "import os\n",
    "from dotenv import load_dotenv\n",
    "load_dotenv()"
   ]
  },
  {
   "cell_type": "code",
   "execution_count": 2,
   "metadata": {},
   "outputs": [],
   "source": [
    "os.environ[\"OPENAI_API_KEY\"] =os.getenv(\"OPENAI_API_KEY\")\n",
    "os.environ[\"LANGCHAIN_API_KEY\"] =os.getenv(\"LANGCHAIN_API_KEY\")\n",
    "os.environ['LANGCHAIN_TRACING_V2'] = \"true\""
   ]
  },
  {
   "cell_type": "code",
   "execution_count": 3,
   "metadata": {},
   "outputs": [],
   "source": [
    "from langchain_ollama.llms import OllamaLLM"
   ]
  },
  {
   "cell_type": "code",
   "execution_count": 4,
   "metadata": {},
   "outputs": [
    {
     "name": "stdout",
     "output_type": "stream",
     "text": [
      "\u001b[1mOllamaLLM\u001b[0m\n",
      "Params: {}\n"
     ]
    }
   ],
   "source": [
    "llm = OllamaLLM(model = \"deepseek-r1:8b\")\n",
    "print(llm)"
   ]
  },
  {
   "cell_type": "code",
   "execution_count": 5,
   "metadata": {},
   "outputs": [
    {
     "data": {
      "text/plain": [
       "'<think>\\n\\n</think>\\n\\nAI stands for Artificial Intelligence, which refers to the simulation of human intelligence in machines that are programmed to think and learn.'"
      ]
     },
     "execution_count": 5,
     "metadata": {},
     "output_type": "execute_result"
    }
   ],
   "source": [
    "result = llm.invoke(\"What is AI?\")\n",
    "result"
   ]
  },
  {
   "cell_type": "markdown",
   "metadata": {},
   "source": [
    "## Chat Prompt Template\n",
    "\n",
    "Set a way for the model to reply to questions."
   ]
  },
  {
   "cell_type": "code",
   "execution_count": 6,
   "metadata": {},
   "outputs": [],
   "source": [
    "from langchain_core.prompts import ChatPromptTemplate\n",
    "\n",
    "prompt = ChatPromptTemplate.from_messages(\n",
    "    [\n",
    "    (\"system\" , \"You are an expert AI Engineer. Provide answers based on the questions.\"),\n",
    "    (\"user\", \"{input}\")\n",
    "    ]\n",
    ")\n"
   ]
  },
  {
   "cell_type": "code",
   "execution_count": 7,
   "metadata": {},
   "outputs": [
    {
     "data": {
      "text/plain": [
       "'<think>\\nOkay, so I need to figure out what LangSmith is. The user mentioned it\\'s related to language processing and AI. Let me start by recalling any information I have. I know that there are several AI tools and platforms in this space, but I\\'m not exactly sure about LangSmith specifically.\\n\\nMaybe LangSmith is a company or a tool that helps with language processing tasks. It could be something like Grammarly or Hemingway Editor, which assist writers by checking grammar and improving sentences. But the term \"LangSmith\" isn\\'t ringing a bell as familiar as those others.\\n\\nI should consider if it\\'s part of a larger organization. Sometimes companies have sub-brands or products aimed at specific niches. For example, maybe LangSmith is an AI-driven tool for language translation or NLP applications like sentiment analysis or text generation.\\n\\nAnother angle is that LangSmith could be related to educational technology. Maybe it\\'s a platform used in schools or by authors to improve their writing skills using AI. That would make sense because many educational tools are adopting AI to provide personalized feedback.\\n\\nI also wonder if it\\'s a startup. Startups often name themselves in a way that reflects their purpose, so \"Lang\" for language and \"Smith\" as a surname might indicate the company was founded by someone with the last name Smith or perhaps it\\'s just a brandable name.\\n\\nLooking up information on LangSmith would give me a clearer answer, but since I can\\'t access external resources right now, I\\'ll have to work from what I know. It\\'s possible that LangSmith offers services like automated proofreading, writing assistants, or language translation powered by AI models.\\n\\nIn summary, based on the context provided, LangSmith seems to be an AI-driven tool focused on improving or utilizing language processing capabilities. It might assist with tasks such as writing, editing, translation, or analyzing text through advanced algorithms.\\n</think>\\n\\nLangSmith is likely an AI-driven platform designed to enhance various aspects of language processing. It probably offers services like automated proofreading, writing assistance, and possibly language translation. The name suggests it\\'s focused on leveraging advanced AI models to improve text quality, aiding writers and authors in refining their work.'"
      ]
     },
     "execution_count": 7,
     "metadata": {},
     "output_type": "execute_result"
    }
   ],
   "source": [
    "chain = prompt | llm\n",
    "\n",
    "response =chain.invoke({\"input\" : \"Can you tell me about LangSmith?\"})\n",
    "response\n"
   ]
  },
  {
   "cell_type": "code",
   "execution_count": 8,
   "metadata": {},
   "outputs": [
    {
     "data": {
      "text/plain": [
       "str"
      ]
     },
     "execution_count": 8,
     "metadata": {},
     "output_type": "execute_result"
    }
   ],
   "source": [
    "type(response)"
   ]
  },
  {
   "cell_type": "markdown",
   "metadata": {},
   "source": [
    "## String output parser"
   ]
  },
  {
   "cell_type": "code",
   "execution_count": 9,
   "metadata": {},
   "outputs": [],
   "source": [
    "from langchain_core.output_parsers import StrOutputParser"
   ]
  },
  {
   "cell_type": "code",
   "execution_count": 10,
   "metadata": {},
   "outputs": [],
   "source": [
    "output_parser = StrOutputParser()"
   ]
  },
  {
   "cell_type": "code",
   "execution_count": 11,
   "metadata": {},
   "outputs": [],
   "source": [
    "chain = prompt | llm | output_parser"
   ]
  },
  {
   "cell_type": "code",
   "execution_count": 12,
   "metadata": {},
   "outputs": [
    {
     "data": {
      "text/plain": [
       "'<think>\\nOkay, so I\\'m trying to figure out what LangSmith is. The user asked about it, and the assistant provided a detailed explanation. Now, I want to make sure I understand all the aspects of LangSmith correctly.\\n\\nFirst, from the response, I gather that LangSmith is an AI-powered writing companion. It uses machine learning models to assist with various writing tasks like brainstorming, drafting, editing, etc. It\\'s designed to help both casual users and professionals. That makes sense because a lot of people could benefit from AI assistance in their writing.\\n\\nThe assistant mentioned that Langsmith is accessible through different platforms: web, iOS, and Android. So, whether I\\'m using a computer or my phone, I can access it anywhere. That\\'s pretty convenient because I often switch between devices.\\n\\nI also noted that the tool can analyze text for clarity, grammar, and style. It helps in rephrasing sentences to make them clearer or more engaging. Plus, it offers inspiration by suggesting related words or phrases based on the context. This is useful when I\\'m stuck with writer\\'s block or need some creative spark.\\n\\nThe AI models it uses include GPT-3.5 and others, which are pretty advanced. It can understand the nuances of language and provide contextually relevant suggestions. That must make the assistance feel more natural and helpful.\\n\\nAnother point was that LangSmith supports multiple languages, which is great for users who write in various languages or need translations. It also allows customization, so it can adapt to specific writing styles or fields like business, creative writing, etc. This customization makes the tool more flexible and useful across different user needs.\\n\\nI think a key feature is real-time feedback while writing, which helps improve the quality of the text on-the-go. Being able to get suggestions without leaving the current context is really handy.\\n\\nThe subscription model includes free and paid tiers, with the latter offering advanced features like multiple device access and more customization options. That makes it accessible to a broad range of users, from those who just want basic help to those who need more comprehensive assistance.\\n\\nLooking at use cases, LangSmith can be used by content creators, marketers, students, and professionals for various tasks such as blog posts, emails, reports, and creative writing. The ability to handle different types of texts suggests it\\'s versatile enough to fit many needs.\\n\\nI wonder how the AI models are trained exactly. Are they using specific datasets or is it more general? Also, how does LangSmith handle plagiarism detection if mentioned? Wait, in the original response, it said \"content optimization and plagiarism detection,\" but when I read again, it says \"content optimization and writing assistance.\" So maybe it doesn\\'t include plagiarism detection but can help with optimizing content.\\n\\nAnother thought: How does it integrate with existing writing tools or software? For example, can you use it alongside Grammarly or other editing tools? And what about the user interface? Is it straightforward and easy to navigate across all platforms?\\n\\nI should also consider how accurate LangSmith is compared to human editors. Since it\\'s AI, there might be limitations in understanding complex contexts or highly nuanced writing.\\n\\nLastly, I\\'m curious about the community or support available for users who have questions or issues. Does LangSmith offer customer service, forums, or documentation to help users make the most of the tool?\\n\\nOverall, LangSmith seems like a powerful writing aid that leverages AI effectively, but there are still some questions about its specific capabilities and limitations that I might need to look into further.\\n</think>\\n\\n**LangSmith: An Overview**\\n\\nLangSmith is an AI-powered writing companion designed to assist users with various writing tasks. It offers features like brainstorming, drafting, editing, and content optimization, making it suitable for both casual users and professionals.\\n\\n**Key Features:**\\n1. **Cross-Platform Accessibility:** Available on web, iOS, and Android, LangSmith allows users to access it anywhere, supporting multi-device usage through its premium subscription.\\n\\n2. **Advanced AI Models:** Utilizes models like GPT-3.5 to provide contextually relevant suggestions, enhancing the natural feel of assistance.\\n\\n3. **Multi-Language Support:** Accommodates writers who use multiple languages or need translations, with customization options for specific styles and fields such as business or creative writing.\\n\\n4. **Real-Time Feedback:** Offers immediate suggestions and feedback, improving text quality on-the-go without disrupting the user\\'s workflow.\\n\\n5. **Subscription Model:** Provides a free tier with basic features and a premium option offering advanced features like multiple device access and more customization.\\n\\n**Use Cases:**\\n- Content creators and marketers for blog posts, emails, and social media content.\\n- Students and professionals for academic writing, reports, and presentations.\\n- Versatile across various text types, from casual notes to formal documents.\\n\\n**Considerations:**\\n- Training specifics of AI models and limitations in understanding complex contexts or nuanced writing.\\n- Integration potential with existing tools like Grammarly and user interface design for ease of use.\\n- Availability of community support, customer service, forums, or documentation for user assistance.\\n\\nOverall, LangSmith is a versatile tool that leverages AI to assist writers effectively, though further exploration into its specific capabilities and limitations would provide deeper insights.'"
      ]
     },
     "execution_count": 12,
     "metadata": {},
     "output_type": "execute_result"
    }
   ],
   "source": [
    "response =chain.invoke({\"input\" : \"Can you tell me about LangSmith?\"})\n",
    "response"
   ]
  }
 ],
 "metadata": {
  "kernelspec": {
   "display_name": "Python 3",
   "language": "python",
   "name": "python3"
  },
  "language_info": {
   "codemirror_mode": {
    "name": "ipython",
    "version": 3
   },
   "file_extension": ".py",
   "mimetype": "text/x-python",
   "name": "python",
   "nbconvert_exporter": "python",
   "pygments_lexer": "ipython3",
   "version": "3.11.11"
  }
 },
 "nbformat": 4,
 "nbformat_minor": 2
}
