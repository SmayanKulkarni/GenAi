{
 "cells": [
  {
   "cell_type": "code",
   "execution_count": 1,
   "metadata": {},
   "outputs": [
    {
     "data": {
      "text/plain": [
       "True"
      ]
     },
     "execution_count": 1,
     "metadata": {},
     "output_type": "execute_result"
    }
   ],
   "source": [
    "import os\n",
    "from dotenv import load_dotenv\n",
    "load_dotenv()"
   ]
  },
  {
   "cell_type": "code",
   "execution_count": 2,
   "metadata": {},
   "outputs": [],
   "source": [
    "os.environ[\"OPENAI_API_KEY\"] =os.getenv(\"OPENAI_API_KEY\")\n",
    "os.environ[\"LANGCHAIN_API_KEY\"] =os.getenv(\"LANGCHAIN_API_KEY\")\n",
    "os.environ['LANGCHAIN_TRACING_V2'] = \"true\""
   ]
  },
  {
   "cell_type": "code",
   "execution_count": 3,
   "metadata": {},
   "outputs": [],
   "source": [
    "from langchain_ollama.llms import OllamaLLM"
   ]
  },
  {
   "cell_type": "code",
   "execution_count": 4,
   "metadata": {},
   "outputs": [
    {
     "name": "stdout",
     "output_type": "stream",
     "text": [
      "\u001b[1mOllamaLLM\u001b[0m\n",
      "Params: {}\n"
     ]
    }
   ],
   "source": [
    "llm = OllamaLLM(model = \"deepseek-r1:8b\")\n",
    "print(llm)"
   ]
  },
  {
   "cell_type": "code",
   "execution_count": 5,
   "metadata": {},
   "outputs": [
    {
     "data": {
      "text/plain": [
       "'<think>\\n\\n</think>\\n\\nAI stands for Artificial Intelligence, which refers to the simulation of human intelligence in machines that are programmed to think and learn like humans.'"
      ]
     },
     "execution_count": 5,
     "metadata": {},
     "output_type": "execute_result"
    }
   ],
   "source": [
    "result = llm.invoke(\"What is AI?\")\n",
    "result"
   ]
  },
  {
   "cell_type": "markdown",
   "metadata": {},
   "source": [
    "## Chat Prompt Template\n",
    "\n",
    "Set a way for the model to reply to questions."
   ]
  },
  {
   "cell_type": "code",
   "execution_count": 6,
   "metadata": {},
   "outputs": [],
   "source": [
    "from langchain_core.prompts import ChatPromptTemplate\n",
    "\n",
    "prompt = ChatPromptTemplate.from_messages(\n",
    "    [\n",
    "    (\"system\" , \"You are an expert AI Engineer. Provide answers based on the questions.\"),\n",
    "    (\"user\", \"{input}\")\n",
    "    ]\n",
    ")\n"
   ]
  },
  {
   "cell_type": "code",
   "execution_count": 7,
   "metadata": {},
   "outputs": [
    {
     "data": {
      "text/plain": [
       "'<think>\\nOkay, so I\\'m trying to figure out what LangSmith is. I came across the name in some context and want to know more about it. Let me start by breaking down the term. \"Lang\" probably stands for language, and \"Smith\" might be a surname or a reference to something else. Maybe it\\'s a company, tool, or technology related to languages.\\n\\nI think LangSmith could be related to programming or development since many tools in those fields have names combining words with technical terms. Alternatively, it might be an educational tool for language learning. Let me consider both possibilities.\\n\\nIf it\\'s a programming tool, perhaps it\\'s used for processing natural language data. That makes sense because many AI applications deal with NLP (Natural Language Processing). So LangSmith might be a framework or library that helps in handling languages for various tasks like tokenization, parsing, translation, etc. It could be open-source since many tech tools are open to encourage community contributions.\\n\\nOn the other hand, if it\\'s an educational platform, it might offer resources, courses, or apps for learning different languages. The name doesn\\'t immediately suggest that, though. Maybe LangSmith is a startup in the edtech sector providing language learning software with unique features.\\n\\nI should also think about whether I\\'ve heard of LangSmith before. I\\'m not sure, but I can try searching online to get more information. However, since I don\\'t have access right now, I\\'ll have to rely on my existing knowledge and reasoning.\\n\\nConsidering the technical angle, if LangSmith is related to programming, it might be part of a library that allows developers to manipulate text using various language models or tools. It could integrate with different frameworks like TensorFlow or PyTorch for building NLP applications.\\n\\nIn terms of features, such a tool might offer syntax analysis, translation services, and text generation. These are common uses in NLP. The key here is that LangSmith provides a set of functionalities that make working with languages programmatically easier.\\n\\nI also wonder about the target audience. If it\\'s for developers, the documentation would be technical. If it\\'s educational, maybe there are tutorials or courses aimed at learners. Without more info, it\\'s hard to say exactly, but I\\'m leaning towards it being a development tool given the name and possible context.\\n\\nAnother angle is that LangSmith could be a brand name for a product. Maybe they focus on specific aspects of language processing, like generating human-like text or analyzing text for insights. It could also be used in content creation, where AI tools help write articles, scripts, or other texts based on given prompts.\\n\\nI should also consider if there are alternatives to LangSmith. For instance, I know about Llama from Meta (formerly Facebook), GPT from OpenAI, and others. Perhaps LangSmith is a lesser-known alternative with specific features catering to certain use cases.\\n\\nIn summary, my understanding is that LangSmith is likely a tool or framework related to natural language processing, providing various functionalities for working with languages programmatically, possibly as part of a development toolkit.\\n</think>\\n\\nLangSmith is a tool or framework related to Natural Language Processing (NLP), designed to assist developers in handling and processing linguistic data. It offers functionalities such as text tokenization, parsing, translation, and text generation, making it useful for tasks like building NLP applications. LangSmith likely serves as a development library, possibly open-source, that integrates with frameworks like TensorFlow or PyTorch, providing features for syntax analysis and content creation. While primarily targeting developers, its potential educational applications could include language learning resources, though this is speculative based on the name\\'s ambiguity.'"
      ]
     },
     "execution_count": 7,
     "metadata": {},
     "output_type": "execute_result"
    }
   ],
   "source": [
    "chain = prompt | llm\n",
    "\n",
    "response =chain.invoke({\"input\" : \"Can you tell me about LangSmith?\"})\n",
    "response\n"
   ]
  },
  {
   "cell_type": "code",
   "execution_count": 8,
   "metadata": {},
   "outputs": [
    {
     "data": {
      "text/plain": [
       "str"
      ]
     },
     "execution_count": 8,
     "metadata": {},
     "output_type": "execute_result"
    }
   ],
   "source": [
    "type(response)"
   ]
  },
  {
   "cell_type": "markdown",
   "metadata": {},
   "source": [
    "## String output parser"
   ]
  },
  {
   "cell_type": "code",
   "execution_count": 9,
   "metadata": {},
   "outputs": [],
   "source": [
    "from langchain_core.output_parsers import StrOutputParser"
   ]
  },
  {
   "cell_type": "code",
   "execution_count": 10,
   "metadata": {},
   "outputs": [],
   "source": [
    "output_parser = StrOutputParser()"
   ]
  },
  {
   "cell_type": "code",
   "execution_count": 11,
   "metadata": {},
   "outputs": [],
   "source": [
    "chain = prompt | llm | output_parser"
   ]
  },
  {
   "cell_type": "code",
   "execution_count": 12,
   "metadata": {},
   "outputs": [
    {
     "data": {
      "text/plain": [
       "'<think>\\nOkay, so I need to figure out what LangSmith is. The user just asked about it, and my initial response was that LangSmith is a tool for generating, editing, or translating text using advanced AI models. But now they\\'re asking me to think through how an expert AI engineer would approach this.\\n\\nFirst, I should consider where the name \"LangSmith\" comes from. \"Lang\" usually refers to language, so maybe it\\'s related to NLP tasks. The word \"Smith\" could be a play on \"AI Smith\" or just a brand name. So LangSmith might be a tool that leverages AI for text processing.\\n\\nI should think about the possible functions of such a tool. It could be used for translation, summarization, paraphrasing, or even generating creative content like stories or articles using AI models. The user might be interested in how it works behind the scenes, so I\\'d need to explain the technologies involved, like transformer models, sequence-to-sequence learning, etc.\\n\\nI also need to consider the target audience: probably developers, content creators, or businesses looking to automate text tasks. They might want an API for integration into their systems, which means scalability and performance are important factors.\\n\\nPotential limitations could be the cost, depending on the model size used, or the ethical considerations of AI-generated text. The user might also be curious about customization options, allowing them to tweak settings like language models or output formats.\\n\\nIn summary, my response should cover what LangSmith is, its potential uses, underlying technologies, target users, and some considerations like limitations and customizations.\\n</think>\\n\\nLangSmith is a cutting-edge AI-powered tool designed for a variety of text-related tasks. It leverages advanced natural language processing (NLP) models to enable features such as translation, summarization, paraphrasing, and even creative content generation. The name \"LangSmith\" likely blends \"Language\" with \"Smith,\" possibly hinting at its role in crafting or shaping text akin to a blacksmith shaping metal.\\n\\n**Key Features and Considerations:**\\n\\n1. **Functionality**: LangSmith can handle translation across multiple languages, condense lengthy texts into summaries, rephrase sentences for different contexts, and assist in generating original content using AI models like GPT-4.\\n\\n2. **Technology**: It utilizes transformer models, which excel at sequence-to-sequence tasks, enabling complex language manipulation and understanding context.\\n\\n3. **Target Audience**: Primarily aimed at developers integrating AI into applications, content creators seeking inspiration or assistance, and businesses automating repetitive text tasks.\\n\\n4. **Scalability and Performance**: Designed for high-speed processing, making it suitable for large-scale operations via APIs that can be integrated into various systems.\\n\\n5. **Considerations**: Users may encounter costs associated with model sizes and ethical concerns regarding AI-generated content\\'s reliability and originality.\\n\\n6. **Customization Options**: Allows users to adjust settings, such as selecting specific language models or output formats, catering to individual needs.\\n\\nIn essence, LangSmith is a versatile tool that combines powerful NLP capabilities with user-friendly features, making it invaluable for diverse text processing requirements.'"
      ]
     },
     "execution_count": 12,
     "metadata": {},
     "output_type": "execute_result"
    }
   ],
   "source": [
    "response =chain.invoke({\"input\" : \"Can you tell me about LangSmith?\"})\n",
    "response"
   ]
  }
 ],
 "metadata": {
  "kernelspec": {
   "display_name": "Python 3",
   "language": "python",
   "name": "python3"
  },
  "language_info": {
   "codemirror_mode": {
    "name": "ipython",
    "version": 3
   },
   "file_extension": ".py",
   "mimetype": "text/x-python",
   "name": "python",
   "nbconvert_exporter": "python",
   "pygments_lexer": "ipython3",
   "version": "3.11.11"
  }
 },
 "nbformat": 4,
 "nbformat_minor": 2
}
